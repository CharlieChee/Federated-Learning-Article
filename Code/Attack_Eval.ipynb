{
  "nbformat": 4,
  "nbformat_minor": 0,
  "metadata": {
    "colab": {
      "provenance": []
    },
    "kernelspec": {
      "name": "python3",
      "display_name": "Python 3"
    },
    "language_info": {
      "name": "python"
    }
  },
  "cells": [
    {
      "cell_type": "code",
      "execution_count": 125,
      "metadata": {
        "id": "HeM9MzVeDEKQ"
      },
      "outputs": [],
      "source": [
        "import numpy as np"
      ]
    },
    {
      "cell_type": "code",
      "source": [
        "from google.colab import drive\n",
        "drive.mount('/content/drive')"
      ],
      "metadata": {
        "colab": {
          "base_uri": "https://localhost:8080/"
        },
        "id": "d9LKC94NDIhr",
        "outputId": "8f4282cd-e276-40cf-e8bd-8fbced3dd060"
      },
      "execution_count": 126,
      "outputs": [
        {
          "output_type": "stream",
          "name": "stdout",
          "text": [
            "Drive already mounted at /content/drive; to attempt to forcibly remount, call drive.mount(\"/content/drive\", force_remount=True).\n"
          ]
        }
      ]
    },
    {
      "cell_type": "code",
      "source": [],
      "metadata": {
        "id": "uBWeWjtRDSMD"
      },
      "execution_count": 4,
      "outputs": []
    },
    {
      "cell_type": "code",
      "source": [
        "def read_all_comm_round_data(comm_round_list, prefix, mid_str, feature_str, final_str, have_label=True, label_str=''):\n",
        "\tall_data = []\n",
        "\tall_label = []\n",
        "\tif (len(comm_round_list) == 1):\n",
        "\n",
        "\t\tfor comm_round_idx in comm_round_list:\n",
        "\t\t\tdata_name = prefix + feature_str + mid_str + str(comm_round_idx) + final_str\n",
        "\t\t\tdata = np.load(data_name, allow_pickle=True)\n",
        "\t\t\tall_data.append(data)\n",
        "\t\t\tlabel_name = prefix + label_str + mid_str + str(comm_round_idx) + final_str\n",
        "\t\t\tlabel = np.load(label_name)\n",
        "\t\t\tall_label.append(label)\n",
        "\n",
        "\t\tall_data = np.array(all_data)\n",
        "\t\tall_label = np.array(all_label).flatten()\n",
        "\n",
        "\t\treturn np.squeeze(all_data), np.squeeze(all_label)\n",
        "\n",
        "num_user = 10\n",
        "eval_data_size = 1000\n",
        "num_valid_user = 1\n",
        "epochs = 1\n",
        "num_layers = 12\n",
        "total_data_num = (num_user * 2) * eval_data_size\n",
        "all_epoch_layer_cos = np.zeros((total_data_num, num_valid_user, 1, num_layers))\n",
        "\n",
        "final_str = '_96_cifar10_4000_1000_alexnet.npy'\n",
        "comm_round_list = [0]\n",
        "prefix = '/content/drive/MyDrive/pycharmPlace/expdata/'\n",
        "mid_str = '12345_0_client_0_0_10_80_0_0_0_0_0_0_'\n",
        "data, label = read_all_comm_round_data(comm_round_list, prefix, mid_str,\n",
        "\t\t                                       feature_str='all_info_multi_party_member_attack_',\n",
        "\t\t                                       final_str=final_str, label_str='all_label_multi_party_member_attack_')\n",
        "\n",
        "label = np.reshape(label, (-1))\n",
        "selected_data = data[:, 3, :]\n",
        "selected_data[5000:6000,:] = -selected_data[5000:6000, :]\n",
        "selected_data[1000:2000,:] = -selected_data[1000:2000, :]\n"
      ],
      "metadata": {
        "id": "cMRx6J7XDk21"
      },
      "execution_count": 4,
      "outputs": []
    },
    {
      "cell_type": "code",
      "source": [
        "import numpy as np\n",
        "\n",
        "# 通过文件路径加载 .npy 文件\n",
        "loaded_array = np.load('/content/drive/MyDrive/pycharmPlace/expdata/96gradient.npy', allow_pickle=True)\n",
        "gradient = []\n",
        "for i in loaded_array:\n",
        "  gradient.append(np.linalg.norm(i.flatten()))\n",
        "print(gradient)\n"
      ],
      "metadata": {
        "colab": {
          "base_uri": "https://localhost:8080/"
        },
        "id": "EjLnUdz3ep6_",
        "outputId": "62cdeac2-4ee6-4cf6-ef8a-17a6ea5c6d94"
      },
      "execution_count": 5,
      "outputs": [
        {
          "output_type": "stream",
          "name": "stdout",
          "text": [
            "[0.8337739, 1.2502612, 0.60844314, 1.2335507, 1.0841601, 1.2779434, 0.82994217, 0.5169199, 1.2097638, 0.6872404]\n"
          ]
        }
      ]
    },
    {
      "cell_type": "code",
      "source": [
        "def get(list):\n",
        "  total = []\n",
        "  user = []\n",
        "  nonuser = []\n",
        "  for idx in list:\n",
        "    x = 0\n",
        "    y = 0\n",
        "    for num in list:\n",
        "      x = x + selected_data[1000*idx:1000*(idx+1),num+1]*gradient[num]\n",
        "      y = y + selected_data[10000+1000*idx:10000+1000*(idx+1),num+1]*gradient[num]\n",
        "    user.append(x)\n",
        "    nonuser.append(y)\n",
        "  total = np.concatenate((user,nonuser)).flatten()\n",
        "  return total"
      ],
      "metadata": {
        "id": "2-yMzF9UNB_G"
      },
      "execution_count": 6,
      "outputs": []
    },
    {
      "cell_type": "code",
      "source": [
        "import matplotlib.pyplot as plt\n",
        "from sklearn.metrics import roc_curve, roc_auc_score\n",
        "def get_auc(values):\n",
        "    # 假设 get(list) 是一个函数来获得相应的评分\n",
        "    all_scores1 = get(values)\n",
        "    length = int(len(all_scores1) / 2)\n",
        "    labels1 = [1] * length + [0] * length\n",
        "    fpr1, tpr1, thresholds1 = roc_curve(labels1, all_scores1)\n",
        "    auc1 = roc_auc_score(labels1, all_scores1)\n",
        "    return [fpr1, tpr1, auc1]\n"
      ],
      "metadata": {
        "id": "M5DpGyjIcdRj"
      },
      "execution_count": 7,
      "outputs": []
    },
    {
      "cell_type": "code",
      "source": [
        "list = [[i] for i in range(10)]\n",
        "for i in list:\n",
        "    print(get_auc(i))"
      ],
      "metadata": {
        "colab": {
          "base_uri": "https://localhost:8080/"
        },
        "id": "NzkfsMzN5l3_",
        "outputId": "3d401088-25fb-4318-9200-58f247f2b7ba"
      },
      "execution_count": 8,
      "outputs": [
        {
          "output_type": "stream",
          "name": "stdout",
          "text": [
            "0.6465529999999999\n",
            "0.662897\n",
            "0.661098\n",
            "0.519745\n",
            "0.579502\n",
            "0.645221\n",
            "0.665116\n",
            "0.6796859999999999\n",
            "0.5074179999999999\n",
            "0.670743\n"
          ]
        }
      ]
    },
    {
      "cell_type": "code",
      "source": [
        "from itertools import combinations\n",
        "\n",
        "\n",
        "numbers = [0,1,2,3,4,5, 6, 7, 8, 9]\n",
        "average_auc_per_length = []\n",
        "\n",
        "for r in range(1, len(numbers) + 1):\n",
        "    combinations_r = combinations(numbers, r)\n",
        "    auc_values = [get_auc(combination)[-1] for combination in combinations_r]\n",
        "    average_auc = sum(auc for auc in auc_values if auc is not None) / len(auc_values)\n",
        "    average_auc_per_length.append((r, round(average_auc, 2)))\n",
        "\n",
        "for combination_length, avg_auc in average_auc_per_length:\n",
        "    print(\"Combination length:\", combination_length, \"Average AUC:\", avg_auc)\n",
        "\n",
        "\n"
      ],
      "metadata": {
        "colab": {
          "base_uri": "https://localhost:8080/"
        },
        "id": "k3jsb1dpc_lI",
        "outputId": "53e41239-d967-4b58-cb29-4e2c87336c8d"
      },
      "execution_count": 49,
      "outputs": [
        {
          "output_type": "stream",
          "name": "stdout",
          "text": [
            "Combination length: 1 Average AUC: 0.62\n",
            "Combination length: 2 Average AUC: 0.58\n",
            "Combination length: 3 Average AUC: 0.56\n",
            "Combination length: 4 Average AUC: 0.55\n",
            "Combination length: 5 Average AUC: 0.54\n",
            "Combination length: 6 Average AUC: 0.53\n",
            "Combination length: 7 Average AUC: 0.53\n",
            "Combination length: 8 Average AUC: 0.53\n",
            "Combination length: 9 Average AUC: 0.53\n",
            "Combination length: 10 Average AUC: 0.52\n"
          ]
        }
      ]
    },
    {
      "cell_type": "code",
      "source": [
        "from scipy.interpolate import interp1d\n",
        "\n",
        "def plot_average_roc(curve_data_list):\n",
        "    # 初始化一个图\n",
        "    common_x = np.linspace(0, 1, num=100)\n",
        "    y_values = []\n",
        "\n",
        "    for curve_data in curve_data_list:\n",
        "\n",
        "        x, y = curve_data\n",
        "        x = np.array(x).flatten()\n",
        "        y = np.array(y).flatten()\n",
        "\n",
        "        # 使用插值方法将曲线映射到相同的 x 值上\n",
        "        f = interpolate.interp1d(x, y, kind='linear')\n",
        "        y_mapped = f(common_x)\n",
        "        y_values.append(y_mapped)\n",
        "\n",
        "        # 绘制原始曲线\n",
        "        #plt.plot(x, y, lw=2, label='ROC curve')\n",
        "\n",
        "    # 计算平均曲线的数据\n",
        "    y_avg = np.mean(y_values, axis=0)\n",
        "    return common_x,y_avg\n"
      ],
      "metadata": {
        "id": "7L_Td1wpu1bg"
      },
      "execution_count": 14,
      "outputs": []
    },
    {
      "cell_type": "code",
      "source": [
        "import numpy as np\n",
        "import matplotlib.pyplot as plt\n",
        "from itertools import combinations\n",
        "from sklearn.metrics import roc_curve, roc_auc_score\n",
        "from scipy.interpolate import interp1d\n",
        "def get_auc(values):\n",
        "    # 假设 get(list) 是一个函数来获得相应的评分\n",
        "    all_scores1 = get(values)\n",
        "    length = int(len(all_scores1) / 2)\n",
        "    labels1 = [1] * length + [0] * length\n",
        "    fpr1, tpr1, thresholds1 = roc_curve(labels1, all_scores1)\n",
        "    auc1 = roc_auc_score(labels1, all_scores1)\n",
        "    return [fpr1, tpr1, auc1]\n",
        "\n",
        "numbers = [0,1,2,3,4,5,6,7,8,9]\n",
        "#numbers = [0,1,2]\n",
        "average_auc_per_length = []\n",
        "\n",
        "plt.figure(figsize=(8, 6))\n",
        "avg_point = []\n",
        "\n",
        "for r in range(1, len(numbers) + 1):\n",
        "    i = r-1\n",
        "    combinations_r = combinations(numbers, r)\n",
        "    auc_values = [get_auc(combination) for combination in combinations_r]\n",
        "    average_auc = sum(auc for _, _, auc in auc_values if auc is not None) / len(auc_values)\n",
        "    value = np.array(auc_values)\n",
        "    value = value[:,:2]\n",
        "    x,y = plot_average_roc(value)\n",
        "    # 指定不同的颜色和形状\n",
        "    color = plt.cm.jet(i / len(numbers))  # 使用颜色映射来生成不同颜色\n",
        "\n",
        "    plt.plot(x, y, color=color,  lw=2, label='Client Number = '+str(r)+', AUC = '+str(round(average_auc,2)))\n",
        "\n",
        "plt.plot([0, 1], [0, 1], color='gray', linestyle='--')\n",
        "plt.xlim([0.0, 1.0])\n",
        "plt.ylim([0.0, 1.05])\n",
        "plt.xlabel('False Positive Rate')\n",
        "plt.ylabel('True Positive Rate')\n",
        "plt.title('Receiver Operating Characteristic (ROC)')\n",
        "plt.legend(loc='lower right')\n",
        "\n",
        "plt.show()\n",
        "\n",
        "\n",
        "\n"
      ],
      "metadata": {
        "colab": {
          "base_uri": "https://localhost:8080/",
          "height": 451
        },
        "id": "K-yQ0c6PVxp8",
        "outputId": "4b95ad11-2863-4bcf-8a21-29e904f9cae0"
      },
      "execution_count": 16,
      "outputs": [
        {
          "output_type": "stream",
          "name": "stderr",
          "text": [
            "<ipython-input-16-33fcb1dc6a2e>:27: VisibleDeprecationWarning: Creating an ndarray from ragged nested sequences (which is a list-or-tuple of lists-or-tuples-or ndarrays with different lengths or shapes) is deprecated. If you meant to do this, you must specify 'dtype=object' when creating the ndarray.\n",
            "  value = np.array(auc_values)\n"
          ]
        },
        {
          "output_type": "error",
          "ename": "NameError",
          "evalue": "ignored",
          "traceback": [
            "\u001b[0;31m---------------------------------------------------------------------------\u001b[0m",
            "\u001b[0;31mNameError\u001b[0m                                 Traceback (most recent call last)",
            "\u001b[0;32m<ipython-input-16-33fcb1dc6a2e>\u001b[0m in \u001b[0;36m<cell line: 22>\u001b[0;34m()\u001b[0m\n\u001b[1;32m     27\u001b[0m     \u001b[0mvalue\u001b[0m \u001b[0;34m=\u001b[0m \u001b[0mnp\u001b[0m\u001b[0;34m.\u001b[0m\u001b[0marray\u001b[0m\u001b[0;34m(\u001b[0m\u001b[0mauc_values\u001b[0m\u001b[0;34m)\u001b[0m\u001b[0;34m\u001b[0m\u001b[0;34m\u001b[0m\u001b[0m\n\u001b[1;32m     28\u001b[0m     \u001b[0mvalue\u001b[0m \u001b[0;34m=\u001b[0m \u001b[0mvalue\u001b[0m\u001b[0;34m[\u001b[0m\u001b[0;34m:\u001b[0m\u001b[0;34m,\u001b[0m\u001b[0;34m:\u001b[0m\u001b[0;36m2\u001b[0m\u001b[0;34m]\u001b[0m\u001b[0;34m\u001b[0m\u001b[0;34m\u001b[0m\u001b[0m\n\u001b[0;32m---> 29\u001b[0;31m     \u001b[0mx\u001b[0m\u001b[0;34m,\u001b[0m\u001b[0my\u001b[0m \u001b[0;34m=\u001b[0m \u001b[0mplot_average_roc\u001b[0m\u001b[0;34m(\u001b[0m\u001b[0mvalue\u001b[0m\u001b[0;34m)\u001b[0m\u001b[0;34m\u001b[0m\u001b[0;34m\u001b[0m\u001b[0m\n\u001b[0m\u001b[1;32m     30\u001b[0m     \u001b[0;31m# 指定不同的颜色和形状\u001b[0m\u001b[0;34m\u001b[0m\u001b[0;34m\u001b[0m\u001b[0m\n\u001b[1;32m     31\u001b[0m     \u001b[0mcolor\u001b[0m \u001b[0;34m=\u001b[0m \u001b[0mplt\u001b[0m\u001b[0;34m.\u001b[0m\u001b[0mcm\u001b[0m\u001b[0;34m.\u001b[0m\u001b[0mjet\u001b[0m\u001b[0;34m(\u001b[0m\u001b[0mi\u001b[0m \u001b[0;34m/\u001b[0m \u001b[0mlen\u001b[0m\u001b[0;34m(\u001b[0m\u001b[0mnumbers\u001b[0m\u001b[0;34m)\u001b[0m\u001b[0;34m)\u001b[0m  \u001b[0;31m# 使用颜色映射来生成不同颜色\u001b[0m\u001b[0;34m\u001b[0m\u001b[0;34m\u001b[0m\u001b[0m\n",
            "\u001b[0;32m<ipython-input-14-842d33a7edef>\u001b[0m in \u001b[0;36mplot_average_roc\u001b[0;34m(curve_data_list)\u001b[0m\n\u001b[1;32m     13\u001b[0m \u001b[0;34m\u001b[0m\u001b[0m\n\u001b[1;32m     14\u001b[0m         \u001b[0;31m# 使用插值方法将曲线映射到相同的 x 值上\u001b[0m\u001b[0;34m\u001b[0m\u001b[0;34m\u001b[0m\u001b[0m\n\u001b[0;32m---> 15\u001b[0;31m         \u001b[0mf\u001b[0m \u001b[0;34m=\u001b[0m \u001b[0minterpolate\u001b[0m\u001b[0;34m.\u001b[0m\u001b[0minterp1d\u001b[0m\u001b[0;34m(\u001b[0m\u001b[0mx\u001b[0m\u001b[0;34m,\u001b[0m \u001b[0my\u001b[0m\u001b[0;34m,\u001b[0m \u001b[0mkind\u001b[0m\u001b[0;34m=\u001b[0m\u001b[0;34m'linear'\u001b[0m\u001b[0;34m)\u001b[0m\u001b[0;34m\u001b[0m\u001b[0;34m\u001b[0m\u001b[0m\n\u001b[0m\u001b[1;32m     16\u001b[0m         \u001b[0my_mapped\u001b[0m \u001b[0;34m=\u001b[0m \u001b[0mf\u001b[0m\u001b[0;34m(\u001b[0m\u001b[0mcommon_x\u001b[0m\u001b[0;34m)\u001b[0m\u001b[0;34m\u001b[0m\u001b[0;34m\u001b[0m\u001b[0m\n\u001b[1;32m     17\u001b[0m         \u001b[0my_values\u001b[0m\u001b[0;34m.\u001b[0m\u001b[0mappend\u001b[0m\u001b[0;34m(\u001b[0m\u001b[0my_mapped\u001b[0m\u001b[0;34m)\u001b[0m\u001b[0;34m\u001b[0m\u001b[0;34m\u001b[0m\u001b[0m\n",
            "\u001b[0;31mNameError\u001b[0m: name 'interpolate' is not defined"
          ]
        },
        {
          "output_type": "display_data",
          "data": {
            "text/plain": [
              "<Figure size 800x600 with 0 Axes>"
            ]
          },
          "metadata": {}
        }
      ]
    },
    {
      "cell_type": "code",
      "source": [
        "def get_auc(values):\n",
        "    # 假设 get(list) 是一个函数来获得相应的评分\n",
        "    all_scores1 = get(values)\n",
        "    length = int(len(all_scores1) / 2)\n",
        "    labels1 = [1] * length + [0] * length\n",
        "    fpr1, tpr1, thresholds1 = roc_curve(labels1, all_scores1)\n",
        "    auc1 = roc_auc_score(labels1, all_scores1)\n",
        "    return [fpr1, tpr1, auc1]\n",
        "\n",
        "def avg_auc(list):\n",
        "  score = 0\n",
        "  number = 0\n",
        "  for component in list:\n",
        "    number = number + len(component)\n",
        "    score = score + get_auc(component)[-1]*len(component)\n",
        "  score = score/number\n",
        "  return score"
      ],
      "metadata": {
        "id": "i7ESQLwFyEPT"
      },
      "execution_count": 53,
      "outputs": []
    },
    {
      "cell_type": "code",
      "source": [
        "\n",
        "data = [{0, 2, 4, 5, 6, 7}, {3}]\n",
        "\n",
        "# 将集合转换为列表\n",
        "data_as_list = [[*i] for i in data]\n",
        "\n",
        "score = avg_auc(data_as_list)\n",
        "print(score)"
      ],
      "metadata": {
        "colab": {
          "base_uri": "https://localhost:8080/"
        },
        "id": "cktZLpJJ5_St",
        "outputId": "503733d0-a711-4d4a-b2b1-a7af53246b93"
      },
      "execution_count": 18,
      "outputs": [
        {
          "output_type": "stream",
          "name": "stdout",
          "text": [
            "0.5534516666666666\n"
          ]
        }
      ]
    },
    {
      "cell_type": "code",
      "source": [
        "import networkx as nx\n",
        "import matplotlib.pyplot as plt\n",
        "import numpy as np\n",
        "import random\n",
        "\n",
        "#edge = [9,12,15,20,25]\n",
        "edge = 15\n",
        "# 加载邻接矩阵数据\n",
        "epoch = 5000\n",
        "distribution = [\"poisson\",\"powerlaw\"]\n",
        "adj_matrix_array = np.load(\"/content/drive/MyDrive/Graph/adj_matrices_\"+distribution[0]+\"_\"+str(epoch)+\"_\"+str(edge)+\"_edge.npy\")\n",
        "numbers = range(1, 10)  # Numbers from 1 to 9\n",
        "\n",
        "for number in numbers:\n",
        "    adj_matrix_array_copy = [adj_matrix.copy() for adj_matrix in adj_matrix_array]\n",
        "    final_residuals = []\n",
        "\n",
        "    for selected_matrix in adj_matrix_array_copy:\n",
        "        # 创建图对象\n",
        "        G = nx.Graph(selected_matrix)\n",
        "\n",
        "        # 随机选择number个点消去并删除相应的边\n",
        "        nodes = [*(G.nodes())]\n",
        "        nodes_to_remove = random.sample(nodes, k=number)\n",
        "        for node in nodes_to_remove:\n",
        "            G.remove_node(node)\n",
        "\n",
        "        # 获取剩下的连通子图\n",
        "        subgraphs = [*(nx.connected_components(G))]\n",
        "\n",
        "        # 添加当前图的剩余连通子图结果到最终结果列表\n",
        "        final_residuals.append(subgraphs)\n",
        "\n",
        "    scores_array = np.empty(len(final_residuals))\n",
        "\n",
        "    for i, residual in enumerate(final_residuals):\n",
        "        data_as_list = [[*i] for i in residual]\n",
        "        score = avg_auc(data_as_list)  # You need to define avg_auc function\n",
        "        scores_array[i] = score\n",
        "\n",
        "    # 将分数数组保存为npy文件\n",
        "    np.save(\"/content/drive/MyDrive/Graph/fix\"+distribution[0]+\"_remove\" + str(number) + \"_\"+str(epoch)+\"_edge_\"+str(edge)+\".npy\", scores_array)\n",
        "\n",
        "\n",
        "\n",
        "\n",
        "\n",
        "\n",
        "import networkx as nx\n",
        "import matplotlib.pyplot as plt\n",
        "import numpy as np\n",
        "import random\n",
        "\n",
        "#edge = [9,12,15,20,25]\n",
        "edge = 15\n",
        "# 加载邻接矩阵数据\n",
        "epoch = 5000\n",
        "distribution = [\"poisson\",\"powerlaw\"]\n",
        "adj_matrix_array = np.load(\"/content/drive/MyDrive/Graph/adj_matrices_\"+distribution[1]+\"_\"+str(epoch)+\"_\"+str(edge)+\"_edge.npy\")\n",
        "numbers = range(1, 10)  # Numbers from 1 to 9\n",
        "\n",
        "for number in numbers:\n",
        "    adj_matrix_array_copy = [adj_matrix.copy() for adj_matrix in adj_matrix_array]\n",
        "    final_residuals = []\n",
        "\n",
        "    for selected_matrix in adj_matrix_array_copy:\n",
        "        # 创建图对象\n",
        "        G = nx.Graph(selected_matrix)\n",
        "\n",
        "        # 随机选择number个点消去并删除相应的边\n",
        "        nodes = [*(G.nodes())]\n",
        "        nodes_to_remove = random.sample(nodes, k=number)\n",
        "        for node in nodes_to_remove:\n",
        "            G.remove_node(node)\n",
        "\n",
        "        # 获取剩下的连通子图\n",
        "        subgraphs = [*(nx.connected_components(G))]\n",
        "\n",
        "        # 添加当前图的剩余连通子图结果到最终结果列表\n",
        "        final_residuals.append(subgraphs)\n",
        "\n",
        "    scores_array = np.empty(len(final_residuals))\n",
        "\n",
        "    for i, residual in enumerate(final_residuals):\n",
        "        data_as_list = [[*i] for i in residual]\n",
        "        score = avg_auc(data_as_list)  # You need to define avg_auc function\n",
        "        scores_array[i] = score\n",
        "\n",
        "    # 将分数数组保存为npy文件\n",
        "    np.save(\"/content/drive/MyDrive/Graph/fix\"+distribution[1]+\"_remove\" + str(number) + \"_\"+str(epoch)+\"_edge_\"+str(edge)+\".npy\", scores_array)\n"
      ],
      "metadata": {
        "id": "NFO9OyBk7GWx"
      },
      "execution_count": 69,
      "outputs": []
    },
    {
      "cell_type": "code",
      "source": [
        "x_poisson = []\n",
        "y_poisson = []\n",
        "import numpy as np\n",
        "edge = 15\n",
        "epoch = 5000\n",
        "for i in range(9):\n",
        "    scores_array = np.load(\"/content/drive/MyDrive/Graph/fixpoisson_remove\" + str(i+1) + \"_\"+str(epoch)+\"_edge_\"+str(edge)+\".npy\")\n",
        "    average_score = np.mean(scores_array)\n",
        "    x_poisson.append(i+1)\n",
        "    y_poisson.append(average_score)\n",
        "\n",
        "x_powerlaw = []\n",
        "y_powerlaw = []\n",
        "for i in range(9):\n",
        "    scores_array = np.load(\"/content/drive/MyDrive/Graph/fixpowerlaw_remove\" + str(i+1) + \"_\"+str(epoch)+\"_edge_\"+str(edge)+\".npy\")\n",
        "    average_score = np.mean(scores_array)\n",
        "    x_powerlaw.append(i+1)\n",
        "    y_powerlaw.append(average_score)\n",
        "\n",
        "import numpy as np\n",
        "import matplotlib.pyplot as plt\n",
        "# 绘制折线图\n",
        "plt.figure(figsize=(10, 6))\n",
        "plt.plot(x_poisson, y_poisson, marker='o', label='Poisson')\n",
        "plt.plot(x_powerlaw, y_powerlaw, marker='o', label='Power Law')\n",
        "plt.xlabel('Number of Removed Nodes')\n",
        "plt.ylabel('Attack Success Rate')\n",
        "#plt.title('Average AUC with Random Removed Nodes(5000 runs)')\n",
        "plt.xticks(range(1, 10))\n",
        "plt.legend()\n",
        "plt.grid(True)\n",
        "plt.show()\n"
      ],
      "metadata": {
        "colab": {
          "base_uri": "https://localhost:8080/",
          "height": 542
        },
        "id": "PDj0l2ca9llO",
        "outputId": "c6528dde-392a-4ef6-ee59-81ae235326fb"
      },
      "execution_count": 2,
      "outputs": [
        {
          "output_type": "display_data",
          "data": {
            "text/plain": [
              "<Figure size 1000x600 with 1 Axes>"
            ],
            "image/png": "[encoded data removed]"
          },
          "metadata": {}
        }
      ]
    },
    {
      "cell_type": "code",
      "source": [
        "import networkx as nx\n",
        "import matplotlib.pyplot as plt\n",
        "import numpy as np\n",
        "import random\n",
        "\n",
        "def find_order(adj_matrix):\n",
        "    G = nx.Graph(adj_matrix)\n",
        "    num_nodes = G.number_of_nodes()\n",
        "    list_order = []\n",
        "\n",
        "    while len(list_order) < num_nodes - 1:\n",
        "        degrees = [*(G.degree())]\n",
        "        max_degree = max(degrees, key=lambda x: x[1])[1]\n",
        "        nodes_with_max_degree = [node for node, degree in degrees if degree == max_degree]\n",
        "\n",
        "        if len(nodes_with_max_degree) == 1:\n",
        "            max_degree_node = nodes_with_max_degree[0]\n",
        "        else:\n",
        "            max_degree_node = random.choice(nodes_with_max_degree)\n",
        "\n",
        "        list_order.append(max_degree_node)\n",
        "        G.remove_node(max_degree_node)\n",
        "\n",
        "    return list_order\n",
        "\n",
        "#edge = [9,12,15,20,25]\n",
        "edge = 15\n",
        "epoch = 5000\n",
        "# 加载邻接矩阵数据\n",
        "distribution = [\"poisson\",\"powerlaw\"]\n",
        "adj_matrix_array = np.load(\"/content/drive/MyDrive/Graph/adj_matrices_\"+distribution[0]+\"_\"+str(epoch)+\"_\"+str(edge)+\"_edge.npy\")\n",
        "numbers = range(1, 10)  # Numbers from 1 to 9\n",
        "list_poisson = []\n",
        "for number in numbers:\n",
        "    adj_matrix_array_copy = [adj_matrix.copy() for adj_matrix in adj_matrix_array]\n",
        "    final_residuals = []\n",
        "\n",
        "    for selected_matrix in adj_matrix_array_copy:\n",
        "        # 创建图对象\n",
        "        G = nx.Graph(selected_matrix)\n",
        "        order = find_order(selected_matrix)\n",
        "\n",
        "        # 选择number个点消去并删除相应的边\n",
        "        nodes = [*(G.nodes())]\n",
        "        nodes_to_remove = order[:number]\n",
        "        for node in nodes_to_remove:\n",
        "            G.remove_node(node)\n",
        "\n",
        "        # 获取剩下的连通子图\n",
        "        subgraphs = [*(nx.connected_components(G))]\n",
        "\n",
        "        # 添加当前图的剩余连通子图结果到最终结果列表\n",
        "        final_residuals.append(subgraphs)\n",
        "\n",
        "    scores_array = np.empty(len(final_residuals))\n",
        "\n",
        "    for i, residual in enumerate(final_residuals):\n",
        "        data_as_list = [[*i] for i in residual]\n",
        "        score = avg_auc(data_as_list)  # You need to define avg_auc function\n",
        "        scores_array[i] = score\n",
        "\n",
        "    # 将分数数组保存为npy文件\n",
        "    np.save(\"/content/drive/MyDrive/Graph/target\"+distribution[0]+\"_remove\" + str(number) + \"_\"+str(epoch)+\"_edge_\"+str(edge)+\".npy\", scores_array)\n",
        "\n",
        "\n",
        "\n",
        "import networkx as nx\n",
        "import matplotlib.pyplot as plt\n",
        "import numpy as np\n",
        "import random\n",
        "\n",
        "def find_order(adj_matrix):\n",
        "    G = nx.Graph(adj_matrix)\n",
        "    num_nodes = G.number_of_nodes()\n",
        "    list_order = []\n",
        "\n",
        "    while len(list_order) < num_nodes - 1:\n",
        "        degrees = [*(G.degree())]\n",
        "        max_degree = max(degrees, key=lambda x: x[1])[1]\n",
        "        nodes_with_max_degree = [node for node, degree in degrees if degree == max_degree]\n",
        "\n",
        "        if len(nodes_with_max_degree) == 1:\n",
        "            max_degree_node = nodes_with_max_degree[0]\n",
        "        else:\n",
        "            max_degree_node = random.choice(nodes_with_max_degree)\n",
        "\n",
        "        list_order.append(max_degree_node)\n",
        "        G.remove_node(max_degree_node)\n",
        "\n",
        "    return list_order\n",
        "\n",
        "#edge = [9,12,15,20,25]\n",
        "edge = 15\n",
        "epoch = 5000\n",
        "# 加载邻接矩阵数据\n",
        "distribution = [\"poisson\",\"powerlaw\"]\n",
        "adj_matrix_array = np.load(\"/content/drive/MyDrive/Graph/adj_matrices_\"+distribution[1]+\"_\"+str(epoch)+\"_\"+str(edge)+\"_edge.npy\")\n",
        "numbers = range(1, 10)  # Numbers from 1 to 9\n",
        "list_poisson = []\n",
        "for number in numbers:\n",
        "    adj_matrix_array_copy = [adj_matrix.copy() for adj_matrix in adj_matrix_array]\n",
        "    final_residuals = []\n",
        "\n",
        "    for selected_matrix in adj_matrix_array_copy:\n",
        "        # 创建图对象\n",
        "        G = nx.Graph(selected_matrix)\n",
        "        order = find_order(selected_matrix)\n",
        "\n",
        "        # 选择number个点消去并删除相应的边\n",
        "        nodes = [*(G.nodes())]\n",
        "        nodes_to_remove = order[:number]\n",
        "        for node in nodes_to_remove:\n",
        "            G.remove_node(node)\n",
        "\n",
        "        # 获取剩下的连通子图\n",
        "        subgraphs = [*(nx.connected_components(G))]\n",
        "\n",
        "        # 添加当前图的剩余连通子图结果到最终结果列表\n",
        "        final_residuals.append(subgraphs)\n",
        "\n",
        "    scores_array = np.empty(len(final_residuals))\n",
        "\n",
        "    for i, residual in enumerate(final_residuals):\n",
        "        data_as_list = [[*i] for i in residual]\n",
        "        score = avg_auc(data_as_list)  # You need to define avg_auc function\n",
        "        scores_array[i] = score\n",
        "\n",
        "    # 将分数数组保存为npy文件\n",
        "    np.save(\"/content/drive/MyDrive/Graph/target\"+distribution[1]+\"_remove\" + str(number) + \"_\"+str(epoch)+\"_edge_\"+str(edge)+\".npy\", scores_array)\n",
        "\n",
        "\n",
        "\n"
      ],
      "metadata": {
        "id": "26Lj_Veostt0"
      },
      "execution_count": 76,
      "outputs": []
    },
    {
      "cell_type": "code",
      "source": [
        "x_poisson = []\n",
        "y_poisson = []\n",
        "edge = 15\n",
        "for i in range(9):\n",
        "    scores_array = np.load(\"/content/drive/MyDrive/Graph/targetpoisson_remove\" + str(i+1) + \"_5000\"+\"_edge_\"+str(edge)+\".npy\")\n",
        "    average_score = np.mean(scores_array)\n",
        "    x_poisson.append(i+1)\n",
        "    y_poisson.append(average_score)\n",
        "\n",
        "x_powerlaw = []\n",
        "y_powerlaw = []\n",
        "for i in range(9):\n",
        "    scores_array = np.load(\"/content/drive/MyDrive/Graph/targetpowerlaw_remove\" + str(i+1) +\"_5000\"+ \"_edge_\"+str(edge)+\".npy\")\n",
        "    average_score = np.mean(scores_array)\n",
        "    x_powerlaw.append(i+1)\n",
        "    y_powerlaw.append(average_score)\n",
        "\n",
        "import numpy as np\n",
        "import matplotlib.pyplot as plt\n",
        "# 绘制折线图\n",
        "plt.figure(figsize=(10, 6))\n",
        "plt.plot(x_poisson, y_poisson, marker='o', label='Poisson')\n",
        "plt.plot(x_powerlaw, y_powerlaw, marker='o', label='Power Law')\n",
        "plt.xlabel('Number of Removed Nodes')\n",
        "plt.ylabel('Attack Success Rate')\n",
        "#plt.title('Average AUC with Target Removed Nodes(5000 runs)')\n",
        "plt.xticks(range(1, 10))\n",
        "plt.legend()\n",
        "plt.grid(True)\n",
        "plt.show()\n"
      ],
      "metadata": {
        "colab": {
          "base_uri": "https://localhost:8080/",
          "height": 542
        },
        "id": "ujoln7xyAT1E",
        "outputId": "159c1d47-d0bf-4d39-de01-d35289a04fc8"
      },
      "execution_count": 3,
      "outputs": [
        {
          "output_type": "display_data",
          "data": {
            "text/plain": [
              "<Figure size 1000x600 with 1 Axes>"
            ],
            "image/png": "[encoded data removed]"
          },
          "metadata": {}
        }
      ]
    }
  ]
}